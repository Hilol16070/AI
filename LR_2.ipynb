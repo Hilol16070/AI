{
  "nbformat": 4,
  "nbformat_minor": 0,
  "metadata": {
    "colab": {
      "provenance": [],
      "authorship_tag": "ABX9TyO17bFxF+YjSaD6LOhJN8l1",
      "include_colab_link": true
    },
    "kernelspec": {
      "name": "python3",
      "display_name": "Python 3"
    },
    "language_info": {
      "name": "python"
    }
  },
  "cells": [
    {
      "cell_type": "markdown",
      "metadata": {
        "id": "view-in-github",
        "colab_type": "text"
      },
      "source": [
        "<a href=\"https://colab.research.google.com/github/Hilol16070/AI/blob/main/LR_2.ipynb\" target=\"_parent\"><img src=\"https://colab.research.google.com/assets/colab-badge.svg\" alt=\"Open In Colab\"/></a>"
      ]
    },
    {
      "cell_type": "markdown",
      "source": [
        "**ПРАКТИЧЕСКАЯ РАБОТА 2. ОСНОВНЫЕ КОНСТРУКЦИИ ЯЗЫКА**"
      ],
      "metadata": {
        "id": "StL8rgeB_TbD"
      }
    },
    {
      "cell_type": "markdown",
      "source": [
        "Давлатов Хилол Илхомждонович Пин-б-о-22-1"
      ],
      "metadata": {
        "id": "RkCMTDfj_5QP"
      }
    },
    {
      "cell_type": "markdown",
      "source": [
        "Индивидуальное задание\n",
        "Напишите скрипт для решения задачи в блокноте Python Notebook в соответствии с индивидуальным вариантом:\n",
        "1) Напишите скрипт для подсчета количества элементов не целочисленного типа в списке, состоящем из элементов произвольного типа.\n"
      ],
      "metadata": {
        "id": "NIKOh7RX_Uvr"
      }
    },
    {
      "cell_type": "code",
      "source": [
        "elements = [10, 3.14, 'hello', True, None, 42, 5.67, 'world', [1, 2, 3], (4, 5)]"
      ],
      "metadata": {
        "id": "3i5O7dUQ_mym"
      },
      "execution_count": null,
      "outputs": []
    },
    {
      "cell_type": "code",
      "source": [
        "non_integer_count = sum(1 for element in elements if not isinstance(element, int))"
      ],
      "metadata": {
        "id": "s7FDpCY1_tl9"
      },
      "execution_count": null,
      "outputs": []
    },
    {
      "cell_type": "code",
      "source": [
        "print(f\"Количество элементов не целочисленного типа в списке: {non_integer_count}\")"
      ],
      "metadata": {
        "colab": {
          "base_uri": "https://localhost:8080/"
        },
        "id": "IWLi2U2T_w6e",
        "outputId": "0713dedf-24c7-42c5-debc-71eb81f4e5ce"
      },
      "execution_count": null,
      "outputs": [
        {
          "output_type": "stream",
          "name": "stdout",
          "text": [
            "Количество элементов не целочисленного типа в списке: 7\n"
          ]
        }
      ]
    }
  ]
}
{
  "cells": [
    {
      "cell_type": "markdown",
      "metadata": {
        "id": "view-in-github",
        "colab_type": "text"
      },
      "source": [
        "<a href=\"https://colab.research.google.com/github/Hilol16070/AI/blob/main/laba_5.ipynb\" target=\"_parent\"><img src=\"https://colab.research.google.com/assets/colab-badge.svg\" alt=\"Open In Colab\"/></a>"
      ]
    },
    {
      "cell_type": "markdown",
      "metadata": {
        "id": "PpzGP3HygHaH"
      },
      "source": [
        "# ПРАКТИЧЕСКАЯ РАБОТА 5. ОБЪЕКТНО-ОРИЕНТИРОВАННОЕ ПРОГРАММИРОВАНИЕ\n",
        "Давлатов Хилол Илхомджонович\n",
        "ПИН-б-о-22-1 09.03.03 Прикладная информатика\n",
        "\n",
        "Цель работы: научиться конструировать пользовательские типы данных и\n",
        "решать с их использованием практические задачи.\n",
        "Задачи лабораторной работы:\n",
        "– научиться объявлять тип данных класс;\n",
        "– научиться работать с объектами классов;\n",
        "– научиться объявлять методы и поля класса.\n"
      ]
    },
    {
      "cell_type": "markdown",
      "metadata": {
        "id": "D7ngGQDtgHaJ"
      },
      "source": [
        "![image.png](attachment:image.png)"
      ]
    },
    {
      "cell_type": "code",
      "execution_count": null,
      "metadata": {
        "id": "eBmPNvqkgHaK",
        "outputId": "5407cf90-d3ce-42ab-bbe5-cc8ef545e5ae"
      },
      "outputs": [
        {
          "name": "stdout",
          "output_type": "stream",
          "text": [
            "Интеграл: 58786.0\n",
            "Длинна отрезка функции от a до b: 138.24615727028365 \n",
            "\n",
            "None\n"
          ]
        },
        {
          "ename": "",
          "evalue": "",
          "output_type": "error",
          "traceback": [
            "\u001b[1;31mПри выполнении кода в текущей ячейке или предыдущей ячейке ядро аварийно завершило работу. \n",
            "\u001b[1;31mПроверьте код в ячейках, чтобы определить возможную причину сбоя. \n",
            "\u001b[1;31mЩелкните <a href='https://aka.ms/vscodeJupyterKernelCrash'>здесь</a>, чтобы получить дополнительные сведения. \n",
            "\u001b[1;31mПодробнее см. в <a href='command:jupyter.viewOutput'>журнале Jupyter</a>."
          ]
        }
      ],
      "source": [
        "from scipy.integrate import quad\n",
        "import math\n",
        "\n",
        "class graf():\n",
        "    def __init__(self, a, b):\n",
        "        self.a_ = a\n",
        "        self.b_ = b\n",
        "\n",
        "\n",
        "\n",
        "    def integrate_(self):\n",
        "        return ((3*(self.b_)^2) + (10*self.b_) - (3*(self.a_)^2) -10*self.a_)/2\n",
        "\n",
        "\n",
        "\n",
        "    def info_(self):\n",
        "        print(\"Интеграл:\", self.integrate_())\n",
        "        s = (self.a_ - self.b_)^2    +  ((3*self.a_ + 5)-(3*self.b_ + 5))^2\n",
        "        print(\"Длинна отрезка функции от a до b:\", math.sqrt(s), \"\\n\")\n",
        "\n",
        "a0, b0 = map(int, input(\"Введите a и b:\").split())\n",
        "e = graf(a0, b0)\n",
        "\n",
        "print(e.info_())\n",
        "\n"
      ]
    },
    {
      "cell_type": "markdown",
      "metadata": {
        "id": "GaoebWX2gHaM"
      },
      "source": [
        "![image.png](attachment:image.png)"
      ]
    },
    {
      "cell_type": "markdown",
      "metadata": {
        "id": "vNrv5hYQgHaM"
      },
      "source": [
        "1. это модель для создания объектов определённого типа, описывающая их структуру (набор полей и их начальное состояние) и определяющая алгоритмы (функции или методы) для работы с этими объектами.\n",
        "2. Метод __init__ используется в качестве конструктора класса, при создании нового объекта класса. Также в нем прописываются поля(свойства) объектов данного класса.\n",
        "3. Статические методы не связанны с каким либо конкретным объектом класса, но находятся в зоне видимости класса\n",
        "4. self используется для связи метода с объектом класса\n",
        "5. Метод __init__ может быть объявлен множество раз, но рабочим останется только последний"
      ]
    }
  ],
  "metadata": {
    "kernelspec": {
      "display_name": "Python 3",
      "language": "python",
      "name": "python3"
    },
    "language_info": {
      "codemirror_mode": {
        "name": "ipython",
        "version": 3
      },
      "file_extension": ".py",
      "mimetype": "text/x-python",
      "name": "python",
      "nbconvert_exporter": "python",
      "pygments_lexer": "ipython3",
      "version": "3.12.1"
    },
    "colab": {
      "provenance": [],
      "include_colab_link": true
    }
  },
  "nbformat": 4,
  "nbformat_minor": 0
}